{
 "cells": [
  {
   "cell_type": "code",
   "execution_count": 2,
   "metadata": {},
   "outputs": [],
   "source": [
    "import collections\n",
    "\n",
    "dict1 = {\n",
    "    'day1': 'Mon'\n",
    "    ,'day2': 'Tue'\n",
    "    ,'day3': 'Wed'\n",
    "}\n",
    "dict2 = {\n",
    "    'day2': 'beef'\n",
    "    ,'day3': 'chicken' \n",
    "    ,'day4': 'pork'\n",
    "}"
   ]
  },
  {
   "cell_type": "code",
   "execution_count": 3,
   "metadata": {},
   "outputs": [
    {
     "data": {
      "text/plain": [
       "ChainMap({'day1': 'Mon', 'day2': 'Tue', 'day3': 'Wed'}, {'day2': 'beef', 'day3': 'chicken', 'day4': 'pork'})"
      ]
     },
     "execution_count": 3,
     "metadata": {},
     "output_type": "execute_result"
    }
   ],
   "source": [
    "res = collections.ChainMap(dict1, dict2)\n",
    "res"
   ]
  },
  {
   "cell_type": "code",
   "execution_count": 9,
   "metadata": {},
   "outputs": [
    {
     "name": "stdout",
     "output_type": "stream",
     "text": [
      "[{'day1': 'Mon', 'day2': 'Tue', 'day3': 'Wed'}, {'day2': 'beef', 'day3': 'chicken', 'day4': 'pork'}]\n",
      "['day2', 'day3', 'day4', 'day1']\n",
      "['Tue', 'Wed', 'pork', 'Mon']\n",
      "{'day2': 'Tue', 'day3': 'Wed', 'day4': 'pork', 'day1': 'Mon'}\n"
     ]
    }
   ],
   "source": [
    "print(res.maps)\n",
    "print(list(res.keys()))\n",
    "print(list(res.values()))\n",
    "print({k:v for k,v in res.items()})"
   ]
  },
  {
   "cell_type": "code",
   "execution_count": 11,
   "metadata": {},
   "outputs": [
    {
     "name": "stdout",
     "output_type": "stream",
     "text": [
      "ChainMap({'day1': 'Mon', 'day2': 'Tue', 'day3': 'Wed'}, {'day2': 'beef', 'day3': 'chicken', 'day4': 'pork'})\n",
      "ChainMap({'day2': 'beef', 'day3': 'chicken', 'day4': 'pork'}, {'day1': 'Mon', 'day2': 'Tue', 'day3': 'Wed'})\n",
      "{'day1': 'Mon', 'day2': 'beef', 'day3': 'chicken', 'day4': 'pork'}\n"
     ]
    }
   ],
   "source": [
    "print(res)\n",
    "resA = collections.ChainMap(dict2, dict1)\n",
    "print(resA)\n",
    "print({k:v for k,v in resA.items()})"
   ]
  }
 ],
 "metadata": {
  "interpreter": {
   "hash": "1e79a41250f0c134a9f2ce687a4d8dc68e01add6798a85d537a838638643fd8d"
  },
  "kernelspec": {
   "display_name": "Python 3.9.6 64-bit ('vdsa')",
   "language": "python",
   "name": "python3"
  },
  "language_info": {
   "codemirror_mode": {
    "name": "ipython",
    "version": 3
   },
   "file_extension": ".py",
   "mimetype": "text/x-python",
   "name": "python",
   "nbconvert_exporter": "python",
   "pygments_lexer": "ipython3",
   "version": "3.9.6"
  },
  "orig_nbformat": 4
 },
 "nbformat": 4,
 "nbformat_minor": 2
}
